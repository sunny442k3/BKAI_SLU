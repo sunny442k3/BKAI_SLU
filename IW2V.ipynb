{
  "nbformat": 4,
  "nbformat_minor": 0,
  "metadata": {
    "colab": {
      "provenance": [],
      "gpuType": "T4"
    },
    "kernelspec": {
      "name": "python3",
      "display_name": "Python 3"
    },
    "language_info": {
      "name": "python"
    },
    "accelerator": "GPU",
    "widgets": {
      "application/vnd.jupyter.widget-state+json": {
        "37da8d9995284f46a102652d599a5046": {
          "model_module": "@jupyter-widgets/controls",
          "model_name": "HBoxModel",
          "model_module_version": "1.5.0",
          "state": {
            "_dom_classes": [],
            "_model_module": "@jupyter-widgets/controls",
            "_model_module_version": "1.5.0",
            "_model_name": "HBoxModel",
            "_view_count": null,
            "_view_module": "@jupyter-widgets/controls",
            "_view_module_version": "1.5.0",
            "_view_name": "HBoxView",
            "box_style": "",
            "children": [
              "IPY_MODEL_72f1ffe6626d4eddaaa60bf8b273f5b4",
              "IPY_MODEL_8e85c961c47c47ebb0bb0f25ba11d1d4",
              "IPY_MODEL_3ce2363bd0f841479da72936fabec85e"
            ],
            "layout": "IPY_MODEL_fbd7cb97503041ab8b4a516894b9e309"
          }
        },
        "72f1ffe6626d4eddaaa60bf8b273f5b4": {
          "model_module": "@jupyter-widgets/controls",
          "model_name": "HTMLModel",
          "model_module_version": "1.5.0",
          "state": {
            "_dom_classes": [],
            "_model_module": "@jupyter-widgets/controls",
            "_model_module_version": "1.5.0",
            "_model_name": "HTMLModel",
            "_view_count": null,
            "_view_module": "@jupyter-widgets/controls",
            "_view_module_version": "1.5.0",
            "_view_name": "HTMLView",
            "description": "",
            "description_tooltip": null,
            "layout": "IPY_MODEL_b390a0572347488088e825a3c5920d09",
            "placeholder": "​",
            "style": "IPY_MODEL_5db0be1173ba40f8a01394bed0c8fc67",
            "value": "Downloading (…)rocessor_config.json: 100%"
          }
        },
        "8e85c961c47c47ebb0bb0f25ba11d1d4": {
          "model_module": "@jupyter-widgets/controls",
          "model_name": "FloatProgressModel",
          "model_module_version": "1.5.0",
          "state": {
            "_dom_classes": [],
            "_model_module": "@jupyter-widgets/controls",
            "_model_module_version": "1.5.0",
            "_model_name": "FloatProgressModel",
            "_view_count": null,
            "_view_module": "@jupyter-widgets/controls",
            "_view_module_version": "1.5.0",
            "_view_name": "ProgressView",
            "bar_style": "success",
            "description": "",
            "description_tooltip": null,
            "layout": "IPY_MODEL_3f46e2dd697b4e7abeb377ea69b52c46",
            "max": 263,
            "min": 0,
            "orientation": "horizontal",
            "style": "IPY_MODEL_9977b4470f334ec49da79631c6016f8f",
            "value": 263
          }
        },
        "3ce2363bd0f841479da72936fabec85e": {
          "model_module": "@jupyter-widgets/controls",
          "model_name": "HTMLModel",
          "model_module_version": "1.5.0",
          "state": {
            "_dom_classes": [],
            "_model_module": "@jupyter-widgets/controls",
            "_model_module_version": "1.5.0",
            "_model_name": "HTMLModel",
            "_view_count": null,
            "_view_module": "@jupyter-widgets/controls",
            "_view_module_version": "1.5.0",
            "_view_name": "HTMLView",
            "description": "",
            "description_tooltip": null,
            "layout": "IPY_MODEL_5cde23ba3cc24236abdf0a40cdc41980",
            "placeholder": "​",
            "style": "IPY_MODEL_63bd9466fd56408eb2e07d988dc6414e",
            "value": " 263/263 [00:00&lt;00:00, 13.3kB/s]"
          }
        },
        "fbd7cb97503041ab8b4a516894b9e309": {
          "model_module": "@jupyter-widgets/base",
          "model_name": "LayoutModel",
          "model_module_version": "1.2.0",
          "state": {
            "_model_module": "@jupyter-widgets/base",
            "_model_module_version": "1.2.0",
            "_model_name": "LayoutModel",
            "_view_count": null,
            "_view_module": "@jupyter-widgets/base",
            "_view_module_version": "1.2.0",
            "_view_name": "LayoutView",
            "align_content": null,
            "align_items": null,
            "align_self": null,
            "border": null,
            "bottom": null,
            "display": null,
            "flex": null,
            "flex_flow": null,
            "grid_area": null,
            "grid_auto_columns": null,
            "grid_auto_flow": null,
            "grid_auto_rows": null,
            "grid_column": null,
            "grid_gap": null,
            "grid_row": null,
            "grid_template_areas": null,
            "grid_template_columns": null,
            "grid_template_rows": null,
            "height": null,
            "justify_content": null,
            "justify_items": null,
            "left": null,
            "margin": null,
            "max_height": null,
            "max_width": null,
            "min_height": null,
            "min_width": null,
            "object_fit": null,
            "object_position": null,
            "order": null,
            "overflow": null,
            "overflow_x": null,
            "overflow_y": null,
            "padding": null,
            "right": null,
            "top": null,
            "visibility": null,
            "width": null
          }
        },
        "b390a0572347488088e825a3c5920d09": {
          "model_module": "@jupyter-widgets/base",
          "model_name": "LayoutModel",
          "model_module_version": "1.2.0",
          "state": {
            "_model_module": "@jupyter-widgets/base",
            "_model_module_version": "1.2.0",
            "_model_name": "LayoutModel",
            "_view_count": null,
            "_view_module": "@jupyter-widgets/base",
            "_view_module_version": "1.2.0",
            "_view_name": "LayoutView",
            "align_content": null,
            "align_items": null,
            "align_self": null,
            "border": null,
            "bottom": null,
            "display": null,
            "flex": null,
            "flex_flow": null,
            "grid_area": null,
            "grid_auto_columns": null,
            "grid_auto_flow": null,
            "grid_auto_rows": null,
            "grid_column": null,
            "grid_gap": null,
            "grid_row": null,
            "grid_template_areas": null,
            "grid_template_columns": null,
            "grid_template_rows": null,
            "height": null,
            "justify_content": null,
            "justify_items": null,
            "left": null,
            "margin": null,
            "max_height": null,
            "max_width": null,
            "min_height": null,
            "min_width": null,
            "object_fit": null,
            "object_position": null,
            "order": null,
            "overflow": null,
            "overflow_x": null,
            "overflow_y": null,
            "padding": null,
            "right": null,
            "top": null,
            "visibility": null,
            "width": null
          }
        },
        "5db0be1173ba40f8a01394bed0c8fc67": {
          "model_module": "@jupyter-widgets/controls",
          "model_name": "DescriptionStyleModel",
          "model_module_version": "1.5.0",
          "state": {
            "_model_module": "@jupyter-widgets/controls",
            "_model_module_version": "1.5.0",
            "_model_name": "DescriptionStyleModel",
            "_view_count": null,
            "_view_module": "@jupyter-widgets/base",
            "_view_module_version": "1.2.0",
            "_view_name": "StyleView",
            "description_width": ""
          }
        },
        "3f46e2dd697b4e7abeb377ea69b52c46": {
          "model_module": "@jupyter-widgets/base",
          "model_name": "LayoutModel",
          "model_module_version": "1.2.0",
          "state": {
            "_model_module": "@jupyter-widgets/base",
            "_model_module_version": "1.2.0",
            "_model_name": "LayoutModel",
            "_view_count": null,
            "_view_module": "@jupyter-widgets/base",
            "_view_module_version": "1.2.0",
            "_view_name": "LayoutView",
            "align_content": null,
            "align_items": null,
            "align_self": null,
            "border": null,
            "bottom": null,
            "display": null,
            "flex": null,
            "flex_flow": null,
            "grid_area": null,
            "grid_auto_columns": null,
            "grid_auto_flow": null,
            "grid_auto_rows": null,
            "grid_column": null,
            "grid_gap": null,
            "grid_row": null,
            "grid_template_areas": null,
            "grid_template_columns": null,
            "grid_template_rows": null,
            "height": null,
            "justify_content": null,
            "justify_items": null,
            "left": null,
            "margin": null,
            "max_height": null,
            "max_width": null,
            "min_height": null,
            "min_width": null,
            "object_fit": null,
            "object_position": null,
            "order": null,
            "overflow": null,
            "overflow_x": null,
            "overflow_y": null,
            "padding": null,
            "right": null,
            "top": null,
            "visibility": null,
            "width": null
          }
        },
        "9977b4470f334ec49da79631c6016f8f": {
          "model_module": "@jupyter-widgets/controls",
          "model_name": "ProgressStyleModel",
          "model_module_version": "1.5.0",
          "state": {
            "_model_module": "@jupyter-widgets/controls",
            "_model_module_version": "1.5.0",
            "_model_name": "ProgressStyleModel",
            "_view_count": null,
            "_view_module": "@jupyter-widgets/base",
            "_view_module_version": "1.2.0",
            "_view_name": "StyleView",
            "bar_color": null,
            "description_width": ""
          }
        },
        "5cde23ba3cc24236abdf0a40cdc41980": {
          "model_module": "@jupyter-widgets/base",
          "model_name": "LayoutModel",
          "model_module_version": "1.2.0",
          "state": {
            "_model_module": "@jupyter-widgets/base",
            "_model_module_version": "1.2.0",
            "_model_name": "LayoutModel",
            "_view_count": null,
            "_view_module": "@jupyter-widgets/base",
            "_view_module_version": "1.2.0",
            "_view_name": "LayoutView",
            "align_content": null,
            "align_items": null,
            "align_self": null,
            "border": null,
            "bottom": null,
            "display": null,
            "flex": null,
            "flex_flow": null,
            "grid_area": null,
            "grid_auto_columns": null,
            "grid_auto_flow": null,
            "grid_auto_rows": null,
            "grid_column": null,
            "grid_gap": null,
            "grid_row": null,
            "grid_template_areas": null,
            "grid_template_columns": null,
            "grid_template_rows": null,
            "height": null,
            "justify_content": null,
            "justify_items": null,
            "left": null,
            "margin": null,
            "max_height": null,
            "max_width": null,
            "min_height": null,
            "min_width": null,
            "object_fit": null,
            "object_position": null,
            "order": null,
            "overflow": null,
            "overflow_x": null,
            "overflow_y": null,
            "padding": null,
            "right": null,
            "top": null,
            "visibility": null,
            "width": null
          }
        },
        "63bd9466fd56408eb2e07d988dc6414e": {
          "model_module": "@jupyter-widgets/controls",
          "model_name": "DescriptionStyleModel",
          "model_module_version": "1.5.0",
          "state": {
            "_model_module": "@jupyter-widgets/controls",
            "_model_module_version": "1.5.0",
            "_model_name": "DescriptionStyleModel",
            "_view_count": null,
            "_view_module": "@jupyter-widgets/base",
            "_view_module_version": "1.2.0",
            "_view_name": "StyleView",
            "description_width": ""
          }
        },
        "54e4eeab386140cf95eba409133e2745": {
          "model_module": "@jupyter-widgets/controls",
          "model_name": "HBoxModel",
          "model_module_version": "1.5.0",
          "state": {
            "_dom_classes": [],
            "_model_module": "@jupyter-widgets/controls",
            "_model_module_version": "1.5.0",
            "_model_name": "HBoxModel",
            "_view_count": null,
            "_view_module": "@jupyter-widgets/controls",
            "_view_module_version": "1.5.0",
            "_view_name": "HBoxView",
            "box_style": "",
            "children": [
              "IPY_MODEL_22832a48122840eeb0b867d0073e68c8",
              "IPY_MODEL_065d6a22891f4f6887c514fe7abaf5b9",
              "IPY_MODEL_8013fccc978d41cfb4e4b02fa4541ae9"
            ],
            "layout": "IPY_MODEL_17db670981bb434e869d3890fb5d9923"
          }
        },
        "22832a48122840eeb0b867d0073e68c8": {
          "model_module": "@jupyter-widgets/controls",
          "model_name": "HTMLModel",
          "model_module_version": "1.5.0",
          "state": {
            "_dom_classes": [],
            "_model_module": "@jupyter-widgets/controls",
            "_model_module_version": "1.5.0",
            "_model_name": "HTMLModel",
            "_view_count": null,
            "_view_module": "@jupyter-widgets/controls",
            "_view_module_version": "1.5.0",
            "_view_name": "HTMLView",
            "description": "",
            "description_tooltip": null,
            "layout": "IPY_MODEL_52eef0b2de8a4c1eb44c7224d4b586b8",
            "placeholder": "​",
            "style": "IPY_MODEL_976ba30aec284d3aab408dce6e25211f",
            "value": "Downloading builder script: "
          }
        },
        "065d6a22891f4f6887c514fe7abaf5b9": {
          "model_module": "@jupyter-widgets/controls",
          "model_name": "FloatProgressModel",
          "model_module_version": "1.5.0",
          "state": {
            "_dom_classes": [],
            "_model_module": "@jupyter-widgets/controls",
            "_model_module_version": "1.5.0",
            "_model_name": "FloatProgressModel",
            "_view_count": null,
            "_view_module": "@jupyter-widgets/controls",
            "_view_module_version": "1.5.0",
            "_view_name": "ProgressView",
            "bar_style": "success",
            "description": "",
            "description_tooltip": null,
            "layout": "IPY_MODEL_cd96a265dfae41f1981535d728e845fc",
            "max": 1901,
            "min": 0,
            "orientation": "horizontal",
            "style": "IPY_MODEL_c6d50be5190b4f27bcc460295c703605",
            "value": 1901
          }
        },
        "8013fccc978d41cfb4e4b02fa4541ae9": {
          "model_module": "@jupyter-widgets/controls",
          "model_name": "HTMLModel",
          "model_module_version": "1.5.0",
          "state": {
            "_dom_classes": [],
            "_model_module": "@jupyter-widgets/controls",
            "_model_module_version": "1.5.0",
            "_model_name": "HTMLModel",
            "_view_count": null,
            "_view_module": "@jupyter-widgets/controls",
            "_view_module_version": "1.5.0",
            "_view_name": "HTMLView",
            "description": "",
            "description_tooltip": null,
            "layout": "IPY_MODEL_59c71c2f12324851a83dd10e73a04056",
            "placeholder": "​",
            "style": "IPY_MODEL_54cb56744b8f459db406f0bc8d99e719",
            "value": " 4.48k/? [00:00&lt;00:00, 114kB/s]"
          }
        },
        "17db670981bb434e869d3890fb5d9923": {
          "model_module": "@jupyter-widgets/base",
          "model_name": "LayoutModel",
          "model_module_version": "1.2.0",
          "state": {
            "_model_module": "@jupyter-widgets/base",
            "_model_module_version": "1.2.0",
            "_model_name": "LayoutModel",
            "_view_count": null,
            "_view_module": "@jupyter-widgets/base",
            "_view_module_version": "1.2.0",
            "_view_name": "LayoutView",
            "align_content": null,
            "align_items": null,
            "align_self": null,
            "border": null,
            "bottom": null,
            "display": null,
            "flex": null,
            "flex_flow": null,
            "grid_area": null,
            "grid_auto_columns": null,
            "grid_auto_flow": null,
            "grid_auto_rows": null,
            "grid_column": null,
            "grid_gap": null,
            "grid_row": null,
            "grid_template_areas": null,
            "grid_template_columns": null,
            "grid_template_rows": null,
            "height": null,
            "justify_content": null,
            "justify_items": null,
            "left": null,
            "margin": null,
            "max_height": null,
            "max_width": null,
            "min_height": null,
            "min_width": null,
            "object_fit": null,
            "object_position": null,
            "order": null,
            "overflow": null,
            "overflow_x": null,
            "overflow_y": null,
            "padding": null,
            "right": null,
            "top": null,
            "visibility": null,
            "width": null
          }
        },
        "52eef0b2de8a4c1eb44c7224d4b586b8": {
          "model_module": "@jupyter-widgets/base",
          "model_name": "LayoutModel",
          "model_module_version": "1.2.0",
          "state": {
            "_model_module": "@jupyter-widgets/base",
            "_model_module_version": "1.2.0",
            "_model_name": "LayoutModel",
            "_view_count": null,
            "_view_module": "@jupyter-widgets/base",
            "_view_module_version": "1.2.0",
            "_view_name": "LayoutView",
            "align_content": null,
            "align_items": null,
            "align_self": null,
            "border": null,
            "bottom": null,
            "display": null,
            "flex": null,
            "flex_flow": null,
            "grid_area": null,
            "grid_auto_columns": null,
            "grid_auto_flow": null,
            "grid_auto_rows": null,
            "grid_column": null,
            "grid_gap": null,
            "grid_row": null,
            "grid_template_areas": null,
            "grid_template_columns": null,
            "grid_template_rows": null,
            "height": null,
            "justify_content": null,
            "justify_items": null,
            "left": null,
            "margin": null,
            "max_height": null,
            "max_width": null,
            "min_height": null,
            "min_width": null,
            "object_fit": null,
            "object_position": null,
            "order": null,
            "overflow": null,
            "overflow_x": null,
            "overflow_y": null,
            "padding": null,
            "right": null,
            "top": null,
            "visibility": null,
            "width": null
          }
        },
        "976ba30aec284d3aab408dce6e25211f": {
          "model_module": "@jupyter-widgets/controls",
          "model_name": "DescriptionStyleModel",
          "model_module_version": "1.5.0",
          "state": {
            "_model_module": "@jupyter-widgets/controls",
            "_model_module_version": "1.5.0",
            "_model_name": "DescriptionStyleModel",
            "_view_count": null,
            "_view_module": "@jupyter-widgets/base",
            "_view_module_version": "1.2.0",
            "_view_name": "StyleView",
            "description_width": ""
          }
        },
        "cd96a265dfae41f1981535d728e845fc": {
          "model_module": "@jupyter-widgets/base",
          "model_name": "LayoutModel",
          "model_module_version": "1.2.0",
          "state": {
            "_model_module": "@jupyter-widgets/base",
            "_model_module_version": "1.2.0",
            "_model_name": "LayoutModel",
            "_view_count": null,
            "_view_module": "@jupyter-widgets/base",
            "_view_module_version": "1.2.0",
            "_view_name": "LayoutView",
            "align_content": null,
            "align_items": null,
            "align_self": null,
            "border": null,
            "bottom": null,
            "display": null,
            "flex": null,
            "flex_flow": null,
            "grid_area": null,
            "grid_auto_columns": null,
            "grid_auto_flow": null,
            "grid_auto_rows": null,
            "grid_column": null,
            "grid_gap": null,
            "grid_row": null,
            "grid_template_areas": null,
            "grid_template_columns": null,
            "grid_template_rows": null,
            "height": null,
            "justify_content": null,
            "justify_items": null,
            "left": null,
            "margin": null,
            "max_height": null,
            "max_width": null,
            "min_height": null,
            "min_width": null,
            "object_fit": null,
            "object_position": null,
            "order": null,
            "overflow": null,
            "overflow_x": null,
            "overflow_y": null,
            "padding": null,
            "right": null,
            "top": null,
            "visibility": null,
            "width": null
          }
        },
        "c6d50be5190b4f27bcc460295c703605": {
          "model_module": "@jupyter-widgets/controls",
          "model_name": "ProgressStyleModel",
          "model_module_version": "1.5.0",
          "state": {
            "_model_module": "@jupyter-widgets/controls",
            "_model_module_version": "1.5.0",
            "_model_name": "ProgressStyleModel",
            "_view_count": null,
            "_view_module": "@jupyter-widgets/base",
            "_view_module_version": "1.2.0",
            "_view_name": "StyleView",
            "bar_color": null,
            "description_width": ""
          }
        },
        "59c71c2f12324851a83dd10e73a04056": {
          "model_module": "@jupyter-widgets/base",
          "model_name": "LayoutModel",
          "model_module_version": "1.2.0",
          "state": {
            "_model_module": "@jupyter-widgets/base",
            "_model_module_version": "1.2.0",
            "_model_name": "LayoutModel",
            "_view_count": null,
            "_view_module": "@jupyter-widgets/base",
            "_view_module_version": "1.2.0",
            "_view_name": "LayoutView",
            "align_content": null,
            "align_items": null,
            "align_self": null,
            "border": null,
            "bottom": null,
            "display": null,
            "flex": null,
            "flex_flow": null,
            "grid_area": null,
            "grid_auto_columns": null,
            "grid_auto_flow": null,
            "grid_auto_rows": null,
            "grid_column": null,
            "grid_gap": null,
            "grid_row": null,
            "grid_template_areas": null,
            "grid_template_columns": null,
            "grid_template_rows": null,
            "height": null,
            "justify_content": null,
            "justify_items": null,
            "left": null,
            "margin": null,
            "max_height": null,
            "max_width": null,
            "min_height": null,
            "min_width": null,
            "object_fit": null,
            "object_position": null,
            "order": null,
            "overflow": null,
            "overflow_x": null,
            "overflow_y": null,
            "padding": null,
            "right": null,
            "top": null,
            "visibility": null,
            "width": null
          }
        },
        "54cb56744b8f459db406f0bc8d99e719": {
          "model_module": "@jupyter-widgets/controls",
          "model_name": "DescriptionStyleModel",
          "model_module_version": "1.5.0",
          "state": {
            "_model_module": "@jupyter-widgets/controls",
            "_model_module_version": "1.5.0",
            "_model_name": "DescriptionStyleModel",
            "_view_count": null,
            "_view_module": "@jupyter-widgets/base",
            "_view_module_version": "1.2.0",
            "_view_name": "StyleView",
            "description_width": ""
          }
        }
      }
    }
  },
  "cells": [
    {
      "cell_type": "code",
      "execution_count": 1,
      "metadata": {
        "colab": {
          "base_uri": "https://localhost:8080/"
        },
        "id": "LK6dIpN6XN9i",
        "outputId": "9e86eba9-1321-4285-c692-65dec4810efd"
      },
      "outputs": [
        {
          "output_type": "stream",
          "name": "stdout",
          "text": [
            "  Building wheel for kenlm (pyproject.toml) ... \u001b[?25l\u001b[?25hdone\n",
            "  Created wheel for kenlm: filename=kenlm-0.2.0-cp310-cp310-linux_x86_64.whl size=3184426 sha256=3ed558674383bc3a773998ceb3f3effaf27844fb287fda0c4c7f9bd56968e546\n",
            "  Stored in directory: /root/.cache/pip/wheels/fd/80/e0/18f4148e863fb137bd87e21ee2bf423b81b3ed6989dab95135\n",
            "Successfully built kenlm\n",
            "Installing collected packages: tokenizers, safetensors, pygtrie, kenlm, xxhash, rapidfuzz, hypothesis, dill, pyctcdecode, multiprocess, jiwer, huggingface-hub, transformers, datasets\n",
            "Successfully installed datasets-2.14.5 dill-0.3.7 huggingface-hub-0.17.1 hypothesis-6.84.3 jiwer-3.0.3 kenlm-0.2.0 multiprocess-0.70.15 pyctcdecode-0.5.0 pygtrie-2.5.0 rapidfuzz-3.3.0 safetensors-0.3.3 tokenizers-0.13.3 transformers-4.33.1 xxhash-3.3.0\n"
          ]
        }
      ],
      "source": [
        "!pip install accelerate -U\n",
        "!pip install transformers soundfile datasets jiwer gdown pyctcdecode kenlm"
      ]
    },
    {
      "cell_type": "code",
      "source": [
        "!mkdir ./dataset\n",
        "import gdown\n",
        "def drive_download(idx, output):\n",
        "    url = 'https://drive.google.com/uc?id=' + idx\n",
        "    gdown.download(url, output, quiet=False)\n",
        "drive_download(\"1ZBL3h6bHMmd8MIUNXqg72PucUkC9ZSWJ\", \"./dataset/train_data.zip\")\n",
        "# drive_download(\"1ZepptsTrVSjQEx-dpBBmQ2b7xYFLn_64\", \"./dataset/public_test.zip\")\n",
        "# drive_download(\"1K_07kix1OgBGO2FNPh-Lxqr1yLbtqFYt\", \"./dataset/train.jsonl\")\n",
        "\n",
        "drive_download(\"186Tv-dPED5QiIJy4sRvlsNsvYxLpXfWX\", \"./vn_base_vocab.json\")\n",
        "drive_download(\"1K-oNwBu2svshAkmifU9wISKPMvKgeKy4\", \"./train_20230909.jsonl\")\n",
        "# drive_download(\"1-sKIn6-MMt1S5wbNuK2etmJZYztTlS8b\", \"./4gram_correct.arpa\")"
      ],
      "metadata": {
        "colab": {
          "base_uri": "https://localhost:8080/"
        },
        "id": "M4vEOka5XTUC",
        "outputId": "c752d033-5b5e-4293-9ce4-9772d02f6f26"
      },
      "execution_count": 2,
      "outputs": [
        {
          "output_type": "stream",
          "name": "stderr",
          "text": [
            "Downloading...\n",
            "From: https://drive.google.com/uc?id=1ZBL3h6bHMmd8MIUNXqg72PucUkC9ZSWJ\n",
            "To: /content/dataset/train_data.zip\n",
            "100%|██████████| 733M/733M [00:08<00:00, 82.8MB/s]\n"
          ]
        }
      ]
    },
    {
      "cell_type": "code",
      "source": [
        "# !unzip ./dataset/public_test.zip -d ./dataset/test\n",
        "!unzip ./dataset/train_data.zip -d ./dataset/train"
      ],
      "metadata": {
        "id": "pf-mcEtwXTWs"
      },
      "execution_count": null,
      "outputs": []
    },
    {
      "cell_type": "code",
      "source": [
        "import torch, json, utils, os\n",
        "import numpy as np\n",
        "from functools import partial\n",
        "from datasets import load_metric\n",
        "from dataset import Wav2VecDataset\n",
        "from torch.utils.data import DataLoader\n",
        "from transformers import Wav2Vec2ForCTC, Wav2Vec2Processor, TrainingArguments, Trainer, Wav2Vec2CTCTokenizer, Wav2Vec2FeatureExtractor"
      ],
      "metadata": {
        "id": "n3QBUV5kYBjT"
      },
      "execution_count": 9,
      "outputs": []
    },
    {
      "cell_type": "code",
      "source": [
        "def custom_collate(processor, batch):\n",
        "    processed_batch = [\n",
        "        processor(i[\"input_values\"], text=i[\"label\"], sampling_rate=16000) for i in batch\n",
        "    ]\n",
        "    input_features = [{\"input_values\": i.input_values[0]} for i in processed_batch]\n",
        "    input_features = processor.feature_extractor.pad(input_features, padding=True, return_tensors=\"pt\")\n",
        "    if batch[0][\"label\"] is None:\n",
        "        return input_features\n",
        "    label_features = [{\"input_ids\": i.labels} for i in processed_batch]\n",
        "    label_features = processor.tokenizer.pad(\n",
        "        label_features,\n",
        "        padding=True,\n",
        "        return_tensors=\"pt\"\n",
        "    )\n",
        "    label_features = label_features[\"input_ids\"].masked_fill(label_features.attention_mask.ne(1), -100)\n",
        "    input_features[\"labels\"] = label_features\n",
        "    return input_features"
      ],
      "metadata": {
        "id": "HzNoxWqZYbIa"
      },
      "execution_count": 5,
      "outputs": []
    },
    {
      "cell_type": "code",
      "source": [
        "def train_test_split(root_path, notation_file, test_size=0.3):\n",
        "    notations = utils.load_annotation(notation_file)\n",
        "    dataset = Wav2VecDataset(root_path, [i[\"file\"] for i in notations], notations)\n",
        "    if test_size == 0:\n",
        "      return dataset, dataset\n",
        "    N = len(dataset)\n",
        "    print(f\"Len dataset: {N}\")\n",
        "    train_size = int(N * (1-test_size))\n",
        "    train_set, valid_set = torch.utils.data.random_split(dataset, [train_size, N-train_size])\n",
        "    return train_set, valid_set"
      ],
      "metadata": {
        "id": "MjjDibkXYbK-"
      },
      "execution_count": 6,
      "outputs": []
    },
    {
      "cell_type": "code",
      "source": [
        "train_ds, valid_ds = train_test_split(\"./dataset/train/Train/\", \"./train_20230909.jsonl\", test_size=0.3)\n",
        "len(train_ds), len(valid_ds)"
      ],
      "metadata": {
        "colab": {
          "base_uri": "https://localhost:8080/"
        },
        "id": "saCAJciVYbNl",
        "outputId": "4915a3ce-13a1-4421-a4c2-fa24d2b9e9c7"
      },
      "execution_count": 8,
      "outputs": [
        {
          "output_type": "stream",
          "name": "stdout",
          "text": [
            "Len dataset: 7490\n"
          ]
        },
        {
          "output_type": "execute_result",
          "data": {
            "text/plain": [
              "(5243, 2247)"
            ]
          },
          "metadata": {},
          "execution_count": 8
        }
      ]
    },
    {
      "cell_type": "code",
      "source": [
        "tokenizer = Wav2Vec2CTCTokenizer(\"./vn_base_vocab.json\")\n",
        "extractor = Wav2Vec2FeatureExtractor.from_pretrained(\"nguyenvulebinh/wav2vec2-large-vi-vlsp2020\")\n",
        "processor = Wav2Vec2Processor(tokenizer=tokenizer, feature_extractor=extractor)"
      ],
      "metadata": {
        "colab": {
          "base_uri": "https://localhost:8080/",
          "height": 49,
          "referenced_widgets": [
            "37da8d9995284f46a102652d599a5046",
            "72f1ffe6626d4eddaaa60bf8b273f5b4",
            "8e85c961c47c47ebb0bb0f25ba11d1d4",
            "3ce2363bd0f841479da72936fabec85e",
            "fbd7cb97503041ab8b4a516894b9e309",
            "b390a0572347488088e825a3c5920d09",
            "5db0be1173ba40f8a01394bed0c8fc67",
            "3f46e2dd697b4e7abeb377ea69b52c46",
            "9977b4470f334ec49da79631c6016f8f",
            "5cde23ba3cc24236abdf0a40cdc41980",
            "63bd9466fd56408eb2e07d988dc6414e"
          ]
        },
        "id": "SlnUJ5TVYbQI",
        "outputId": "7b3c5f1f-8e98-457e-e3dc-838222e48ac4"
      },
      "execution_count": 10,
      "outputs": [
        {
          "output_type": "display_data",
          "data": {
            "text/plain": [
              "Downloading (…)rocessor_config.json:   0%|          | 0.00/263 [00:00<?, ?B/s]"
            ],
            "application/vnd.jupyter.widget-view+json": {
              "version_major": 2,
              "version_minor": 0,
              "model_id": "37da8d9995284f46a102652d599a5046"
            }
          },
          "metadata": {}
        }
      ]
    },
    {
      "cell_type": "code",
      "source": [
        "model = Wav2Vec2ForCTC.from_pretrained(\n",
        "    \"nguyenvulebinh/wav2vec2-large-vi-vlsp2020\",\n",
        "    attention_dropout=0.1,\n",
        "    hidden_dropout=0.1,\n",
        "    feat_proj_dropout=0.0,\n",
        "    mask_time_prob=0.1,\n",
        "    ctc_loss_reduction=\"mean\",\n",
        "    pad_token_id=processor.tokenizer.pad_token_id,\n",
        "    # vocab_size=len(processor.tokenizer)\n",
        ")\n",
        "model.config.vocab_size = tokenizer.vocab_size\n",
        "model.config.lambda_intermediate = 0.25\n",
        "model.config.n_intermediate_layers = 8\n",
        "# 768 - base model\n",
        "model.lm_head = torch.nn.Linear(in_features=1024, out_features=tokenizer.vocab_size, bias=True)\n",
        "\n",
        "model.freeze_feature_encoder()\n",
        "model.gradient_checkpointing_enable()\n"
      ],
      "metadata": {
        "colab": {
          "base_uri": "https://localhost:8080/"
        },
        "id": "8JqNW9sYYbSr",
        "outputId": "e9d2fbfd-6438-4757-f725-9684a3c5c2f5"
      },
      "execution_count": 16,
      "outputs": [
        {
          "output_type": "stream",
          "name": "stderr",
          "text": [
            "Some weights of the model checkpoint at nguyenvulebinh/wav2vec2-large-vi-vlsp2020 were not used when initializing Wav2Vec2ForCTC: ['feature_transform.bn2.num_batches_tracked', 'feature_transform.bn3.running_mean', 'feature_transform.bn3.num_batches_tracked', 'feature_transform.bn3.weight', 'feature_transform.linear2.bias', 'feature_transform.linear1.weight', 'feature_transform.bn2.bias', 'feature_transform.bn3.running_var', 'feature_transform.bn2.running_mean', 'feature_transform.bn1.running_mean', 'feature_transform.linear3.bias', 'feature_transform.linear2.weight', 'feature_transform.linear3.weight', 'feature_transform.linear1.bias', 'feature_transform.bn3.bias', 'feature_transform.bn2.running_var', 'feature_transform.bn2.weight', 'feature_transform.bn1.weight', 'feature_transform.bn1.num_batches_tracked', 'feature_transform.bn1.bias', 'feature_transform.bn1.running_var']\n",
            "- This IS expected if you are initializing Wav2Vec2ForCTC from the checkpoint of a model trained on another task or with another architecture (e.g. initializing a BertForSequenceClassification model from a BertForPreTraining model).\n",
            "- This IS NOT expected if you are initializing Wav2Vec2ForCTC from the checkpoint of a model that you expect to be exactly identical (initializing a BertForSequenceClassification model from a BertForSequenceClassification model).\n"
          ]
        }
      ]
    },
    {
      "cell_type": "code",
      "source": [
        "from model import apply_gic_intermediate, Wav2Vec2EncoderLayerStableLayerNormOptimal\n",
        "model = apply_gic_intermediate(model, 8)\n",
        "model"
      ],
      "metadata": {
        "id": "Gm6US9LIY-X7"
      },
      "execution_count": null,
      "outputs": []
    },
    {
      "cell_type": "code",
      "source": [
        "class CTCTrainer(Trainer):\n",
        "\n",
        "    def __init__(self, *args, **kwargs):\n",
        "        super(CTCTrainer, self).__init__(*args, **kwargs)\n",
        "\n",
        "    def param_sharing(self, model):\n",
        "        params = model.lm_head.state_dict()\n",
        "        for layer in model.wav2vec2.encoder.layers:\n",
        "            if isinstance(layer, Wav2Vec2EncoderLayerStableLayerNormOptimal):\n",
        "                layer.wrap_gic.classify_head.load_state_dict(params)\n",
        "                if hasattr(layer.wrap_gic, \"log_probs\"):\n",
        "                    del layer.wrap_gic.log_probs\n",
        "                    # layer.wrap_gic.log_probs = None\n",
        "        return model\n",
        "\n",
        "    def _ctc_loss_calc(self, log_probs, model, inputs):\n",
        "        labels = inputs[\"labels\"]\n",
        "        input_values = inputs[\"input_values\"]\n",
        "        attention_mask = torch.ones_like(input_values, dtype=torch.long) if \"attention_mask\" not in inputs else inputs[\"attention_mask\"]\n",
        "        if labels.max() >= model.config.vocab_size:\n",
        "            raise ValueError(f\"Label values must be <= vocab_size: {model.config.vocab_size}\")\n",
        "\n",
        "        attention_mask = (attention_mask)\n",
        "        input_lengths = model._get_feat_extract_output_lengths(attention_mask.sum(-1)).to(torch.long)\n",
        "\n",
        "        labels_mask = labels >= 0\n",
        "        target_lengths = labels_mask.sum(-1)\n",
        "        flattened_targets = labels.masked_select(labels_mask)\n",
        "\n",
        "        # ctc_loss doesn't support fp16\n",
        "        # log_probs = nn.functional.log_softmax(logits, dim=-1, dtype=torch.float32).transpose(0, 1)\n",
        "\n",
        "        with torch.backends.cudnn.flags(enabled=False):\n",
        "            loss = torch.nn.functional.ctc_loss(\n",
        "                log_probs,\n",
        "                flattened_targets,\n",
        "                input_lengths,\n",
        "                target_lengths,\n",
        "                blank=model.config.pad_token_id,\n",
        "                reduction=model.config.ctc_loss_reduction,\n",
        "                zero_infinity=model.config.ctc_zero_infinity,\n",
        "            )\n",
        "        return loss\n",
        "\n",
        "    def inter_loss_calc(self, model, inputs):\n",
        "        inters_loss = torch.Tensor().requires_grad_(True).to(self.args.device)\n",
        "        for layer in model.wav2vec2.encoder.layers:\n",
        "            if isinstance(layer, Wav2Vec2EncoderLayerStableLayerNormOptimal) and hasattr(layer.wrap_gic, \"log_probs\"):\n",
        "                # print(hasattr(layer.wrap_gic, \"log_probs\"))\n",
        "                log_probs = getattr(layer.wrap_gic, \"log_probs\")\n",
        "                # log_probs = layer.wrap_gic.log_probs\n",
        "                loss = self._ctc_loss_calc(log_probs, model, inputs)\n",
        "                inters_loss = torch.cat([inters_loss, loss.view(1,)], dim=0)\n",
        "        return inters_loss.mean()\n",
        "\n",
        "    def total_loss_calc(self, lamb, loss, inter_loss):\n",
        "        return (1.0 - lamb) * loss + lamb * inter_loss\n",
        "\n",
        "    def training_step(self, model, inputs):\n",
        "        model = self.param_sharing(model)\n",
        "        model.train()\n",
        "        inputs = self._prepare_inputs(inputs)\n",
        "        if self.args.fp16:\n",
        "            with torch.cuda.amp.autocast():\n",
        "                outputs = model(**inputs)\n",
        "                # loss = self.compute_loss(model, inputs)\n",
        "                loss = outputs.loss\n",
        "                inter_loss = self.inter_loss_calc(model, inputs)\n",
        "        else:\n",
        "            outputs = model(**inputs)\n",
        "            # loss = self.compute_loss(model, inputs)\n",
        "            loss = outputs.loss\n",
        "            inter_loss = self.inter_loss_calc(model, inputs)\n",
        "        # self.log({\"Inter loss\": inter_loss.detach()})\n",
        "        all_loss = self.total_loss_calc(model.config.lambda_intermediate, loss, inter_loss)\n",
        "\n",
        "        if self.args.n_gpu > 1:\n",
        "            all_loss = all_loss.mean()\n",
        "\n",
        "        if self.args.gradient_accumulation_steps > 1:\n",
        "            all_loss = all_loss / self.args.gradient_accumulation_steps\n",
        "\n",
        "        if self.do_grad_scaling:\n",
        "            self.scaler.scale(loss).backward()\n",
        "        else:\n",
        "            self.accelerator.backward(loss)\n",
        "\n",
        "        return all_loss.detach()\n",
        "\n",
        "    def prediction_step(self, model, inputs, prediction_loss_only, ignore_keys=None):\n",
        "        self.param_sharing(model)\n",
        "        model.eval()\n",
        "        inputs = self._prepare_inputs(inputs)\n",
        "        with torch.no_grad():\n",
        "            if self.args.fp16:\n",
        "                with torch.cuda.amp.autocast():\n",
        "                    outputs = model(**inputs)\n",
        "                    loss = outputs.loss\n",
        "                    # loss, outputs = self.compute_loss(model, inputs, return_outputs=True)\n",
        "                    inter_loss = self.inter_loss_calc(model, inputs)\n",
        "                    all_loss = self.total_loss_calc(model.config.lambda_intermediate, loss, inter_loss)\n",
        "            else:\n",
        "                loss, outputs = self.compute_loss(model, inputs, return_outputs=True)\n",
        "                inter_loss = self.inter_loss_calc(model, inputs)\n",
        "                all_loss = self.total_loss_calc(model.config.lambda_intermediate, loss, inter_loss)\n",
        "\n",
        "            if self.args.n_gpu > 1:\n",
        "                all_loss = all_loss.mean()\n",
        "        return all_loss.detach(), outputs.logits, inputs.labels"
      ],
      "metadata": {
        "id": "D9W9811XXTZT"
      },
      "execution_count": 24,
      "outputs": []
    },
    {
      "cell_type": "code",
      "source": [
        "wer_metric = load_metric(\"wer\")\n",
        "def compute_metrics(pred):\n",
        "    pred_logits = pred.predictions\n",
        "    pred_ids = np.argmax(pred_logits, axis=-1)\n",
        "    pred.label_ids[pred.label_ids == -100] = processor.tokenizer.pad_token_id\n",
        "    pred_str = processor.batch_decode(pred_ids)\n",
        "    label_str = processor.batch_decode(pred.label_ids, group_tokens=False)\n",
        "    wer = wer_metric.compute(predictions=pred_str, references=label_str)\n",
        "    return {\"wer\": wer}"
      ],
      "metadata": {
        "colab": {
          "base_uri": "https://localhost:8080/",
          "height": 104,
          "referenced_widgets": [
            "54e4eeab386140cf95eba409133e2745",
            "22832a48122840eeb0b867d0073e68c8",
            "065d6a22891f4f6887c514fe7abaf5b9",
            "8013fccc978d41cfb4e4b02fa4541ae9",
            "17db670981bb434e869d3890fb5d9923",
            "52eef0b2de8a4c1eb44c7224d4b586b8",
            "976ba30aec284d3aab408dce6e25211f",
            "cd96a265dfae41f1981535d728e845fc",
            "c6d50be5190b4f27bcc460295c703605",
            "59c71c2f12324851a83dd10e73a04056",
            "54cb56744b8f459db406f0bc8d99e719"
          ]
        },
        "id": "NBfHD94BZaMv",
        "outputId": "52bccaa5-b15a-4681-ba48-c45cb0f50126"
      },
      "execution_count": 18,
      "outputs": [
        {
          "output_type": "stream",
          "name": "stderr",
          "text": [
            "<ipython-input-18-4f3ad2d139be>:1: FutureWarning: load_metric is deprecated and will be removed in the next major version of datasets. Use 'evaluate.load' instead, from the new library 🤗 Evaluate: https://huggingface.co/docs/evaluate\n",
            "  wer_metric = load_metric(\"wer\")\n"
          ]
        },
        {
          "output_type": "display_data",
          "data": {
            "text/plain": [
              "Downloading builder script:   0%|          | 0.00/1.90k [00:00<?, ?B/s]"
            ],
            "application/vnd.jupyter.widget-view+json": {
              "version_major": 2,
              "version_minor": 0,
              "model_id": "54e4eeab386140cf95eba409133e2745"
            }
          },
          "metadata": {}
        }
      ]
    },
    {
      "cell_type": "code",
      "source": [
        "batch_size = 4\n",
        "steps = len(valid_ds) // batch_size\n",
        "steps"
      ],
      "metadata": {
        "colab": {
          "base_uri": "https://localhost:8080/"
        },
        "id": "_IkqpfS_XTb4",
        "outputId": "0688c2dc-e531-4637-8e85-f5af922eee00"
      },
      "execution_count": 20,
      "outputs": [
        {
          "output_type": "execute_result",
          "data": {
            "text/plain": [
              "561"
            ]
          },
          "metadata": {},
          "execution_count": 20
        }
      ]
    },
    {
      "cell_type": "code",
      "source": [
        "training_args = TrainingArguments(\n",
        "    output_dir=\"./wav2vec_large_st_1\",\n",
        "    save_total_limit=1,\n",
        "\n",
        "    group_by_length=True,\n",
        "    per_device_train_batch_size=batch_size,\n",
        "    per_device_eval_batch_size=batch_size,\n",
        "    evaluation_strategy=\"steps\",\n",
        "    # fp16=True,\n",
        "    gradient_checkpointing=True,\n",
        "    learning_rate=1e-4,\n",
        "    warmup_steps=20,\n",
        "\n",
        "    save_steps=steps,\n",
        "    eval_steps=steps,\n",
        "    logging_steps=steps,\n",
        "    max_steps=steps*5,\n",
        "\n",
        "    load_best_model_at_end=True,\n",
        "    metric_for_best_model=\"wer\",\n",
        "    greater_is_better=False\n",
        ")"
      ],
      "metadata": {
        "id": "hl7WnXA3XTeO"
      },
      "execution_count": 21,
      "outputs": []
    },
    {
      "cell_type": "code",
      "source": [
        "trainer = CTCTrainer(\n",
        "    model=model,\n",
        "    data_collator=partial(custom_collate, processor),\n",
        "    args=training_args,\n",
        "    compute_metrics=compute_metrics,\n",
        "    train_dataset=valid_ds,\n",
        "    eval_dataset=valid_ds,\n",
        "    tokenizer=processor.feature_extractor\n",
        ")"
      ],
      "metadata": {
        "id": "Tl__dhOqXTgw"
      },
      "execution_count": 25,
      "outputs": []
    },
    {
      "cell_type": "code",
      "source": [
        "trainer.train()"
      ],
      "metadata": {
        "colab": {
          "base_uri": "https://localhost:8080/",
          "height": 396
        },
        "id": "aqxHvJRJZhQv",
        "outputId": "8d60997a-eca8-4eab-c576-2ac1d08c0bc9"
      },
      "execution_count": 26,
      "outputs": [
        {
          "output_type": "display_data",
          "data": {
            "text/plain": [
              "<IPython.core.display.HTML object>"
            ],
            "text/html": [
              "\n",
              "    <div>\n",
              "      \n",
              "      <progress value='61' max='2805' style='width:300px; height:20px; vertical-align: middle;'></progress>\n",
              "      [  61/2805 00:49 < 38:33, 1.19 it/s, Epoch 0.11/5]\n",
              "    </div>\n",
              "    <table border=\"1\" class=\"dataframe\">\n",
              "  <thead>\n",
              " <tr style=\"text-align: left;\">\n",
              "      <th>Step</th>\n",
              "      <th>Training Loss</th>\n",
              "      <th>Validation Loss</th>\n",
              "    </tr>\n",
              "  </thead>\n",
              "  <tbody>\n",
              "  </tbody>\n",
              "</table><p>"
            ]
          },
          "metadata": {}
        },
        {
          "output_type": "error",
          "ename": "KeyboardInterrupt",
          "evalue": "ignored",
          "traceback": [
            "\u001b[0;31m---------------------------------------------------------------------------\u001b[0m",
            "\u001b[0;31mKeyboardInterrupt\u001b[0m                         Traceback (most recent call last)",
            "\u001b[0;32m<ipython-input-26-3435b262f1ae>\u001b[0m in \u001b[0;36m<cell line: 1>\u001b[0;34m()\u001b[0m\n\u001b[0;32m----> 1\u001b[0;31m \u001b[0mtrainer\u001b[0m\u001b[0;34m.\u001b[0m\u001b[0mtrain\u001b[0m\u001b[0;34m(\u001b[0m\u001b[0;34m)\u001b[0m\u001b[0;34m\u001b[0m\u001b[0;34m\u001b[0m\u001b[0m\n\u001b[0m",
            "\u001b[0;32m/usr/local/lib/python3.10/dist-packages/transformers/trainer.py\u001b[0m in \u001b[0;36mtrain\u001b[0;34m(self, resume_from_checkpoint, trial, ignore_keys_for_eval, **kwargs)\u001b[0m\n\u001b[1;32m   1551\u001b[0m                 \u001b[0mhf_hub_utils\u001b[0m\u001b[0;34m.\u001b[0m\u001b[0menable_progress_bars\u001b[0m\u001b[0;34m(\u001b[0m\u001b[0;34m)\u001b[0m\u001b[0;34m\u001b[0m\u001b[0;34m\u001b[0m\u001b[0m\n\u001b[1;32m   1552\u001b[0m         \u001b[0;32melse\u001b[0m\u001b[0;34m:\u001b[0m\u001b[0;34m\u001b[0m\u001b[0;34m\u001b[0m\u001b[0m\n\u001b[0;32m-> 1553\u001b[0;31m             return inner_training_loop(\n\u001b[0m\u001b[1;32m   1554\u001b[0m                 \u001b[0margs\u001b[0m\u001b[0;34m=\u001b[0m\u001b[0margs\u001b[0m\u001b[0;34m,\u001b[0m\u001b[0;34m\u001b[0m\u001b[0;34m\u001b[0m\u001b[0m\n\u001b[1;32m   1555\u001b[0m                 \u001b[0mresume_from_checkpoint\u001b[0m\u001b[0;34m=\u001b[0m\u001b[0mresume_from_checkpoint\u001b[0m\u001b[0;34m,\u001b[0m\u001b[0;34m\u001b[0m\u001b[0;34m\u001b[0m\u001b[0m\n",
            "\u001b[0;32m/usr/local/lib/python3.10/dist-packages/transformers/trainer.py\u001b[0m in \u001b[0;36m_inner_training_loop\u001b[0;34m(self, batch_size, args, resume_from_checkpoint, trial, ignore_keys_for_eval)\u001b[0m\n\u001b[1;32m   1811\u001b[0m \u001b[0;34m\u001b[0m\u001b[0m\n\u001b[1;32m   1812\u001b[0m             \u001b[0mstep\u001b[0m \u001b[0;34m=\u001b[0m \u001b[0;34m-\u001b[0m\u001b[0;36m1\u001b[0m\u001b[0;34m\u001b[0m\u001b[0;34m\u001b[0m\u001b[0m\n\u001b[0;32m-> 1813\u001b[0;31m             \u001b[0;32mfor\u001b[0m \u001b[0mstep\u001b[0m\u001b[0;34m,\u001b[0m \u001b[0minputs\u001b[0m \u001b[0;32min\u001b[0m \u001b[0menumerate\u001b[0m\u001b[0;34m(\u001b[0m\u001b[0mepoch_iterator\u001b[0m\u001b[0;34m)\u001b[0m\u001b[0;34m:\u001b[0m\u001b[0;34m\u001b[0m\u001b[0;34m\u001b[0m\u001b[0m\n\u001b[0m\u001b[1;32m   1814\u001b[0m                 \u001b[0mtotal_batched_samples\u001b[0m \u001b[0;34m+=\u001b[0m \u001b[0;36m1\u001b[0m\u001b[0;34m\u001b[0m\u001b[0;34m\u001b[0m\u001b[0m\n\u001b[1;32m   1815\u001b[0m                 \u001b[0;32mif\u001b[0m \u001b[0mrng_to_sync\u001b[0m\u001b[0;34m:\u001b[0m\u001b[0;34m\u001b[0m\u001b[0;34m\u001b[0m\u001b[0m\n",
            "\u001b[0;32m/usr/local/lib/python3.10/dist-packages/accelerate/data_loader.py\u001b[0m in \u001b[0;36m__iter__\u001b[0;34m(self)\u001b[0m\n\u001b[1;32m    391\u001b[0m                 \u001b[0;31m# But we still move it to the device so it is done before `StopIteration` is reached\u001b[0m\u001b[0;34m\u001b[0m\u001b[0;34m\u001b[0m\u001b[0m\n\u001b[1;32m    392\u001b[0m                 \u001b[0;32mif\u001b[0m \u001b[0mself\u001b[0m\u001b[0;34m.\u001b[0m\u001b[0mdevice\u001b[0m \u001b[0;32mis\u001b[0m \u001b[0;32mnot\u001b[0m \u001b[0;32mNone\u001b[0m\u001b[0;34m:\u001b[0m\u001b[0;34m\u001b[0m\u001b[0;34m\u001b[0m\u001b[0m\n\u001b[0;32m--> 393\u001b[0;31m                     \u001b[0mcurrent_batch\u001b[0m \u001b[0;34m=\u001b[0m \u001b[0msend_to_device\u001b[0m\u001b[0;34m(\u001b[0m\u001b[0mcurrent_batch\u001b[0m\u001b[0;34m,\u001b[0m \u001b[0mself\u001b[0m\u001b[0;34m.\u001b[0m\u001b[0mdevice\u001b[0m\u001b[0;34m)\u001b[0m\u001b[0;34m\u001b[0m\u001b[0;34m\u001b[0m\u001b[0m\n\u001b[0m\u001b[1;32m    394\u001b[0m                 \u001b[0mnext_batch\u001b[0m \u001b[0;34m=\u001b[0m \u001b[0mnext\u001b[0m\u001b[0;34m(\u001b[0m\u001b[0mdataloader_iter\u001b[0m\u001b[0;34m)\u001b[0m\u001b[0;34m\u001b[0m\u001b[0;34m\u001b[0m\u001b[0m\n\u001b[1;32m    395\u001b[0m                 \u001b[0;32mif\u001b[0m \u001b[0mbatch_index\u001b[0m \u001b[0;34m>=\u001b[0m \u001b[0mself\u001b[0m\u001b[0;34m.\u001b[0m\u001b[0mskip_batches\u001b[0m\u001b[0;34m:\u001b[0m\u001b[0;34m\u001b[0m\u001b[0;34m\u001b[0m\u001b[0m\n",
            "\u001b[0;32m/usr/local/lib/python3.10/dist-packages/accelerate/utils/operations.py\u001b[0m in \u001b[0;36msend_to_device\u001b[0;34m(tensor, device, non_blocking, skip_keys)\u001b[0m\n\u001b[1;32m    158\u001b[0m             \u001b[0mskip_keys\u001b[0m \u001b[0;34m=\u001b[0m \u001b[0;34m[\u001b[0m\u001b[0;34m]\u001b[0m\u001b[0;34m\u001b[0m\u001b[0;34m\u001b[0m\u001b[0m\n\u001b[1;32m    159\u001b[0m         return type(tensor)(\n\u001b[0;32m--> 160\u001b[0;31m             {\n\u001b[0m\u001b[1;32m    161\u001b[0m                 \u001b[0mk\u001b[0m\u001b[0;34m:\u001b[0m \u001b[0mt\u001b[0m \u001b[0;32mif\u001b[0m \u001b[0mk\u001b[0m \u001b[0;32min\u001b[0m \u001b[0mskip_keys\u001b[0m \u001b[0;32melse\u001b[0m \u001b[0msend_to_device\u001b[0m\u001b[0;34m(\u001b[0m\u001b[0mt\u001b[0m\u001b[0;34m,\u001b[0m \u001b[0mdevice\u001b[0m\u001b[0;34m,\u001b[0m \u001b[0mnon_blocking\u001b[0m\u001b[0;34m=\u001b[0m\u001b[0mnon_blocking\u001b[0m\u001b[0;34m,\u001b[0m \u001b[0mskip_keys\u001b[0m\u001b[0;34m=\u001b[0m\u001b[0mskip_keys\u001b[0m\u001b[0;34m)\u001b[0m\u001b[0;34m\u001b[0m\u001b[0;34m\u001b[0m\u001b[0m\n\u001b[1;32m    162\u001b[0m                 \u001b[0;32mfor\u001b[0m \u001b[0mk\u001b[0m\u001b[0;34m,\u001b[0m \u001b[0mt\u001b[0m \u001b[0;32min\u001b[0m \u001b[0mtensor\u001b[0m\u001b[0;34m.\u001b[0m\u001b[0mitems\u001b[0m\u001b[0;34m(\u001b[0m\u001b[0;34m)\u001b[0m\u001b[0;34m\u001b[0m\u001b[0;34m\u001b[0m\u001b[0m\n",
            "\u001b[0;32m/usr/local/lib/python3.10/dist-packages/accelerate/utils/operations.py\u001b[0m in \u001b[0;36m<dictcomp>\u001b[0;34m(.0)\u001b[0m\n\u001b[1;32m    159\u001b[0m         return type(tensor)(\n\u001b[1;32m    160\u001b[0m             {\n\u001b[0;32m--> 161\u001b[0;31m                 \u001b[0mk\u001b[0m\u001b[0;34m:\u001b[0m \u001b[0mt\u001b[0m \u001b[0;32mif\u001b[0m \u001b[0mk\u001b[0m \u001b[0;32min\u001b[0m \u001b[0mskip_keys\u001b[0m \u001b[0;32melse\u001b[0m \u001b[0msend_to_device\u001b[0m\u001b[0;34m(\u001b[0m\u001b[0mt\u001b[0m\u001b[0;34m,\u001b[0m \u001b[0mdevice\u001b[0m\u001b[0;34m,\u001b[0m \u001b[0mnon_blocking\u001b[0m\u001b[0;34m=\u001b[0m\u001b[0mnon_blocking\u001b[0m\u001b[0;34m,\u001b[0m \u001b[0mskip_keys\u001b[0m\u001b[0;34m=\u001b[0m\u001b[0mskip_keys\u001b[0m\u001b[0;34m)\u001b[0m\u001b[0;34m\u001b[0m\u001b[0;34m\u001b[0m\u001b[0m\n\u001b[0m\u001b[1;32m    162\u001b[0m                 \u001b[0;32mfor\u001b[0m \u001b[0mk\u001b[0m\u001b[0;34m,\u001b[0m \u001b[0mt\u001b[0m \u001b[0;32min\u001b[0m \u001b[0mtensor\u001b[0m\u001b[0;34m.\u001b[0m\u001b[0mitems\u001b[0m\u001b[0;34m(\u001b[0m\u001b[0;34m)\u001b[0m\u001b[0;34m\u001b[0m\u001b[0;34m\u001b[0m\u001b[0m\n\u001b[1;32m    163\u001b[0m             }\n",
            "\u001b[0;32m/usr/local/lib/python3.10/dist-packages/accelerate/utils/operations.py\u001b[0m in \u001b[0;36msend_to_device\u001b[0;34m(tensor, device, non_blocking, skip_keys)\u001b[0m\n\u001b[1;32m    165\u001b[0m     \u001b[0;32melif\u001b[0m \u001b[0mhasattr\u001b[0m\u001b[0;34m(\u001b[0m\u001b[0mtensor\u001b[0m\u001b[0;34m,\u001b[0m \u001b[0;34m\"to\"\u001b[0m\u001b[0;34m)\u001b[0m\u001b[0;34m:\u001b[0m\u001b[0;34m\u001b[0m\u001b[0;34m\u001b[0m\u001b[0m\n\u001b[1;32m    166\u001b[0m         \u001b[0;32mtry\u001b[0m\u001b[0;34m:\u001b[0m\u001b[0;34m\u001b[0m\u001b[0;34m\u001b[0m\u001b[0m\n\u001b[0;32m--> 167\u001b[0;31m             \u001b[0;32mreturn\u001b[0m \u001b[0mtensor\u001b[0m\u001b[0;34m.\u001b[0m\u001b[0mto\u001b[0m\u001b[0;34m(\u001b[0m\u001b[0mdevice\u001b[0m\u001b[0;34m,\u001b[0m \u001b[0mnon_blocking\u001b[0m\u001b[0;34m=\u001b[0m\u001b[0mnon_blocking\u001b[0m\u001b[0;34m)\u001b[0m\u001b[0;34m\u001b[0m\u001b[0;34m\u001b[0m\u001b[0m\n\u001b[0m\u001b[1;32m    168\u001b[0m         \u001b[0;32mexcept\u001b[0m \u001b[0mTypeError\u001b[0m\u001b[0;34m:\u001b[0m  \u001b[0;31m# .to() doesn't accept non_blocking as kwarg\u001b[0m\u001b[0;34m\u001b[0m\u001b[0;34m\u001b[0m\u001b[0m\n\u001b[1;32m    169\u001b[0m             \u001b[0;32mreturn\u001b[0m \u001b[0mtensor\u001b[0m\u001b[0;34m.\u001b[0m\u001b[0mto\u001b[0m\u001b[0;34m(\u001b[0m\u001b[0mdevice\u001b[0m\u001b[0;34m)\u001b[0m\u001b[0;34m\u001b[0m\u001b[0;34m\u001b[0m\u001b[0m\n",
            "\u001b[0;31mKeyboardInterrupt\u001b[0m: "
          ]
        }
      ]
    },
    {
      "cell_type": "code",
      "source": [
        "from pyctcdecode import build_ctcdecoder\n",
        "from transformers import Wav2Vec2ProcessorWithLM\n",
        "vocab_dict = processor.tokenizer.get_vocab()\n",
        "sorted_vocab_dict = {k.lower(): v for k, v in sorted(vocab_dict.items(), key=lambda item: item[1])}\n",
        "decoder = build_ctcdecoder(\n",
        "    labels=list(sorted_vocab_dict.keys()),\n",
        "    kenlm_model_path=\"./4gram_correct.arpa\",\n",
        ")\n",
        "processor_with_lm = Wav2Vec2ProcessorWithLM(\n",
        "    feature_extractor=extractor,\n",
        "    tokenizer=tokenizer,\n",
        "    decoder=decoder\n",
        ")"
      ],
      "metadata": {
        "id": "0i0TYYNYZ9I1"
      },
      "execution_count": null,
      "outputs": []
    },
    {
      "cell_type": "code",
      "source": [
        "import os\n",
        "test_ds = Wav2VecDataset(\"./dataset/test/public_test\", os.listdir(\"./dataset/test/public_test\"))\n",
        "len(test_ds)"
      ],
      "metadata": {
        "id": "7bn8hqPLaGOV"
      },
      "execution_count": null,
      "outputs": []
    },
    {
      "cell_type": "code",
      "source": [
        "def test_collate(processor, batch):\n",
        "    processed_batch = [\n",
        "        processor(i[\"input_values\"], sampling_rate=i[\"sample_rate\"]) for i in batch\n",
        "    ]\n",
        "    input_features = [{\"input_values\": i.input_values[0]} for i in processed_batch]\n",
        "    input_features = processor.pad(input_features, padding=True, return_tensors=\"pt\")\n",
        "    input_features[\"id\"] = [i[\"file\"] for i in batch]\n",
        "    return input_features"
      ],
      "metadata": {
        "id": "abDIDWuuaLdl"
      },
      "execution_count": null,
      "outputs": []
    },
    {
      "cell_type": "code",
      "source": [
        "test_loader = DataLoader(test_ds, shuffle=False, batch_size=16, collate_fn=partial(test_collate, processor))\n",
        "len(test_loader)"
      ],
      "metadata": {
        "id": "kqxcZ1MjaNOO"
      },
      "execution_count": null,
      "outputs": []
    },
    {
      "cell_type": "code",
      "source": [
        "def wav2vec_inference(model, test_loader, processor, device=None):\n",
        "    if device is None:\n",
        "        device = torch.device(\"cuda:0\" if torch.cuda.is_available() else \"cpu\")\n",
        "    model.eval()\n",
        "    model = model.to(device)\n",
        "    pred_sentences = {}\n",
        "    for idx, batch in enumerate(test_loader, 1):\n",
        "        X_test =  batch[\"input_values\"].to(device)\n",
        "        X_test = X_test.half()\n",
        "        file_test = batch[\"id\"]\n",
        "        with torch.set_grad_enabled(False):\n",
        "            logits = model(input_values=X_test).logits\n",
        "        logits = torch.argmax(logits, dim=-1)\n",
        "        transcriptions = processor.batch_decode(logits, skip_special_tokens=True)\n",
        "        for file_id, trans in zip(file_test, transcriptions):\n",
        "            pred_sentences[file_id] = trans\n",
        "        # pred_sentences += transcriptions\n",
        "        print(\"\\r\", end=\"\")\n",
        "        print(f\"\\r {idx} / {len(test_loader)}\", end = \"\" if idx != len(test_loader) else \"\\n\")\n",
        "    return pred_sentences"
      ],
      "metadata": {
        "id": "7oQbcEvBaORK"
      },
      "execution_count": null,
      "outputs": []
    },
    {
      "cell_type": "code",
      "source": [
        "def wav2vec_lm_inference(model, test_loader, processor_with_lm, device=None):\n",
        "    if device is None:\n",
        "        device = torch.device(\"cuda:0\" if torch.cuda.is_available() else \"cpu\")\n",
        "    model.eval()\n",
        "    model = model.to(device)\n",
        "    pred_sentences = {}\n",
        "    for idx, batch in enumerate(test_loader, 1):\n",
        "        X_test =  batch[\"input_values\"].to(device)\n",
        "        file_test = batch[\"id\"]\n",
        "        with torch.set_grad_enabled(False):\n",
        "            logits = model(input_values=X_test).logits\n",
        "        # logits = torch.argmax(logits, dim=-1)\n",
        "        logits = logits.cpu().clone().detach().numpy()\n",
        "        # transcriptions = processor.batch_decode(logits, skip_special_tokens=True)\n",
        "        transcriptions = processor_with_lm.batch_decode(logits, beam_width=64).text\n",
        "        for file_id, trans in zip(file_test, transcriptions):\n",
        "            pred_sentences[file_id] = trans\n",
        "        # pred_sentences += transcriptions\n",
        "        print(\"\\r\", end=\"\")\n",
        "        print(f\"\\r {idx} / {len(test_loader)}\", end = \"\" if idx != len(test_loader) else \"\\n\")\n",
        "    return pred_sentences"
      ],
      "metadata": {
        "id": "KE6x1XUDaPnn"
      },
      "execution_count": null,
      "outputs": []
    },
    {
      "cell_type": "code",
      "source": [
        "pred_sens = wav2vec_inference(model, test_loader, processor, torch.device(\"cuda:0\"))"
      ],
      "metadata": {
        "id": "8S2qW2pyaQ5p"
      },
      "execution_count": null,
      "outputs": []
    },
    {
      "cell_type": "code",
      "source": [
        "pred_sens = wav2vec_lm_inference(model, test_loader, processor_with_lm, torch.device(\"cuda:0\"))"
      ],
      "metadata": {
        "id": "IQz7i2Z3aR_A"
      },
      "execution_count": null,
      "outputs": []
    },
    {
      "cell_type": "code",
      "source": [
        "with open(\"./4ram_test_sentences.json\", \"w\", encoding=\"utf-8\") as f:\n",
        "    json.dump(pred_sens, f, ensure_ascii=False)\n",
        "    f.close()"
      ],
      "metadata": {
        "id": "bU4u1YKPaSB2"
      },
      "execution_count": null,
      "outputs": []
    }
  ]
}